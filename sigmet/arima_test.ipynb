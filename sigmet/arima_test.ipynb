{
 "cells": [
  {
   "cell_type": "code",
   "execution_count": 4,
   "metadata": {},
   "outputs": [],
   "source": [
    "import pandas as pd\n",
    "import numpy as np"
   ]
  },
  {
   "cell_type": "code",
   "execution_count": 19,
   "metadata": {},
   "outputs": [
    {
     "output_type": "stream",
     "name": "stdout",
     "text": "The autoreload extension is already loaded. To reload it, use:\n  %reload_ext autoreload\n"
    }
   ],
   "source": [
    "from au3_functions import SARIMAX_50\n",
    "%load_ext autoreload\n",
    "%autoreload 2"
   ]
  },
  {
   "cell_type": "code",
   "execution_count": 26,
   "metadata": {},
   "outputs": [
    {
     "output_type": "execute_result",
     "data": {
      "text/plain": "0    0.844334\ndtype: float64"
     },
     "metadata": {},
     "execution_count": 26
    }
   ],
   "source": [
    "begin_up = list(range(-24, 0))\n",
    "begin_down = list(range(24, 0, -1))\n",
    "begin_flat = [0, 0, 0, 0, 0, 0, 0, 0, 0, 0, \n",
    "                0, 0, 0, 0, 0, 0, 0, 0, 0, 0, 0, 0, 0, 0]\n",
    "begins = [begin_up, begin_down, begin_flat]\n",
    "\n",
    "dates = pd.date_range(start='1/1/2005', periods=48, freq='M')\n",
    "\n",
    "random = list(np.random.rand(1, 24).flatten())\n",
    "\n",
    "\n",
    "data = [x + y for x, y in zip(begin_up, random)]\n",
    "data.extend(random)\n",
    "ser = pd.Series(data=data, index=dates)\n",
    "\n",
    "\n",
    "pd.Series(SARIMAX_50(ser, dates[23]))"
   ]
  },
  {
   "cell_type": "code",
   "execution_count": 25,
   "metadata": {},
   "outputs": [
    {
     "output_type": "execute_result",
     "data": {
      "text/plain": "0     -0.384054\n1     -1.354233\n2     -2.391299\n3     -3.390515\n4     -4.415719\n5     -5.410008\n6     -6.379318\n7     -7.385843\n8     -8.380093\n9     -9.384813\n10   -10.395870\n11   -11.383353\n12   -12.382120\n13   -13.379339\n14   -14.373897\n15   -15.380071\n16   -16.377111\n17   -17.374430\n18   -18.374485\n19   -19.369127\n20   -20.369486\n21   -21.369056\n22   -22.366254\n23   -23.366408\ndtype: float64"
     },
     "metadata": {},
     "execution_count": 25
    }
   ],
   "source": [
    "noisy_data = [x - y for x, y in zip(begin_down, random)]\n",
    "noisy_data.extend(random)\n",
    "noisy_down = pd.Series(data=noisy_data, index=dates)\n",
    "\n",
    "SARIMAX_50(noisy_down, dates[23])"
   ]
  },
  {
   "cell_type": "code",
   "execution_count": null,
   "metadata": {},
   "outputs": [],
   "source": []
  },
  {
   "cell_type": "code",
   "execution_count": null,
   "metadata": {},
   "outputs": [],
   "source": []
  }
 ],
 "metadata": {
  "language_info": {
   "codemirror_mode": {
    "name": "ipython",
    "version": 3
   },
   "file_extension": ".py",
   "mimetype": "text/x-python",
   "name": "python",
   "nbconvert_exporter": "python",
   "pygments_lexer": "ipython3",
   "version": 3
  },
  "orig_nbformat": 2,
  "kernelspec": {
   "name": "python_defaultSpec_1595990803969",
   "display_name": "Python 3.8.3 64-bit"
  }
 },
 "nbformat": 4,
 "nbformat_minor": 2
}